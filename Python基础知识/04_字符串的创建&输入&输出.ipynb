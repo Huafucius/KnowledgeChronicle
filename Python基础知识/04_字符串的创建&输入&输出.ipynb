{
 "cells": [
  {
   "cell_type": "markdown",
   "metadata": {},
   "source": [
    "### 字符串的创建"
   ]
  },
  {
   "cell_type": "markdown",
   "metadata": {},
   "source": [
    "#### 单行字符串\n",
    "\n",
    "单引号和双引号等价。"
   ]
  },
  {
   "cell_type": "code",
   "execution_count": 1,
   "metadata": {},
   "outputs": [
    {
     "name": "stdout",
     "output_type": "stream",
     "text": [
      "小明 小红\n"
     ]
    }
   ],
   "source": [
    "name1 = '小明'\n",
    "name2 = \"小红\"\n",
    "print(name1, name2)"
   ]
  },
  {
   "cell_type": "markdown",
   "metadata": {},
   "source": [
    "#### 多行字符串\n",
    "\n",
    "同样单引号双引号均可。"
   ]
  },
  {
   "cell_type": "code",
   "execution_count": 2,
   "metadata": {},
   "outputs": [
    {
     "name": "stdout",
     "output_type": "stream",
     "text": [
      "你好！\n",
      "这个字符串有很多行哎！\n",
      "你发现它很方便！\n",
      "\n"
     ]
    }
   ],
   "source": [
    "info = \"\"\"你好！\n",
    "这个字符串有很多行哎！\n",
    "你发现它很方便！\n",
    "\"\"\"\n",
    "print(info)"
   ]
  },
  {
   "cell_type": "markdown",
   "metadata": {},
   "source": [
    "### 字符串的输入：'input()'函数\n",
    "\n",
    "input方法的（）内可以键入显示内容。"
   ]
  },
  {
   "cell_type": "code",
   "execution_count": 3,
   "metadata": {},
   "outputs": [
    {
     "name": "stdout",
     "output_type": "stream",
     "text": [
      "您的用户名是： 地爆天星\n",
      "<class 'str'>\n"
     ]
    }
   ],
   "source": [
    "username = input(\"请输入用户名：\")\n",
    "print(\"您的用户名是：\",username)\n",
    "print(type(username))"
   ]
  },
  {
   "cell_type": "markdown",
   "metadata": {},
   "source": [
    "### 字符串的输出"
   ]
  },
  {
   "cell_type": "code",
   "execution_count": 4,
   "metadata": {},
   "outputs": [],
   "source": [
    "name = \"小华\""
   ]
  },
  {
   "cell_type": "markdown",
   "metadata": {},
   "source": [
    "#### 拼接法"
   ]
  },
  {
   "cell_type": "code",
   "execution_count": 5,
   "metadata": {},
   "outputs": [
    {
     "name": "stdout",
     "output_type": "stream",
     "text": [
      "名字是 小华\n",
      "名字是小华\n"
     ]
    }
   ],
   "source": [
    "print(\"名字是\", name)\n",
    "print(\"名字是\" + name)"
   ]
  },
  {
   "cell_type": "markdown",
   "metadata": {},
   "source": [
    "#### 占位符法\n",
    "\n",
    "这是和C语言最相似的占位符方式。"
   ]
  },
  {
   "cell_type": "code",
   "execution_count": 6,
   "metadata": {},
   "outputs": [
    {
     "name": "stdout",
     "output_type": "stream",
     "text": [
      "名字是小华\n"
     ]
    }
   ],
   "source": [
    "print(\"名字是%s\"%(name))"
   ]
  },
  {
   "cell_type": "markdown",
   "metadata": {},
   "source": [
    "#### 格式化法：`format`函数\n",
    "\n",
    "`format()`函数有多种用法，最常用的是最后一种，也最简便。"
   ]
  },
  {
   "cell_type": "code",
   "execution_count": 7,
   "metadata": {},
   "outputs": [
    {
     "name": "stdout",
     "output_type": "stream",
     "text": [
      "名字是小华\n",
      "名字是小华,您好！\n",
      "名字是您好！,小华\n",
      "名字是小华\n",
      "名字是小华\n"
     ]
    }
   ],
   "source": [
    "print(\"名字是{}\".format(name))\n",
    "print(\"名字是{0},{1}\".format(name, \"您好！\")) # format函数格式化，并且指定参数位置\n",
    "print(\"名字是{1},{0}\".format(name, \"您好！\")) # 位置可以调换\n",
    "print(\"名字是{n}\".format(n = name)) # 位置可以是变量（但觉得没什么意义？）\n",
    "print(f\"名字是{name}\") # f就是format（格式化）了，这个方式最常用"
   ]
  }
 ],
 "metadata": {
  "kernelspec": {
   "display_name": "Python 3",
   "language": "python",
   "name": "python3"
  },
  "language_info": {
   "codemirror_mode": {
    "name": "ipython",
    "version": 3
   },
   "file_extension": ".py",
   "mimetype": "text/x-python",
   "name": "python",
   "nbconvert_exporter": "python",
   "pygments_lexer": "ipython3",
   "version": "3.12.1"
  }
 },
 "nbformat": 4,
 "nbformat_minor": 2
}
