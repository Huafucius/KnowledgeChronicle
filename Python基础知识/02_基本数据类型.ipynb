{
 "cells": [
  {
   "cell_type": "markdown",
   "metadata": {},
   "source": [
    "### 字符串型、整型、浮点型\n",
    "\n",
    "注意，Python中的变量可以使用中文作为变量名，但在实际应用中仍旧不建议。"
   ]
  },
  {
   "cell_type": "code",
   "execution_count": 1,
   "metadata": {},
   "outputs": [],
   "source": [
    "字符串型 = \"me\"\n",
    "整型 = 100\n",
    "浮点型 = 100.5"
   ]
  },
  {
   "cell_type": "markdown",
   "metadata": {},
   "source": [
    "### 'type()'函数\n",
    "\n",
    "'type()'函数用来检验变量的数据类型，括号里输入变量名称。"
   ]
  },
  {
   "cell_type": "code",
   "execution_count": 2,
   "metadata": {},
   "outputs": [
    {
     "name": "stdout",
     "output_type": "stream",
     "text": [
      "me <class 'str'>\n",
      "100 <class 'int'>\n",
      "100.5 <class 'float'>\n"
     ]
    }
   ],
   "source": [
    "print(字符串型, type(字符串型))\n",
    "print(整型, type(整型))\n",
    "print(浮点型, type(浮点型))\n"
   ]
  },
  {
   "cell_type": "markdown",
   "metadata": {},
   "source": [
    "### 布尔类型\n",
    "\n",
    "bool类型只有“真”(True)或“假”(False)。"
   ]
  },
  {
   "cell_type": "code",
   "execution_count": 3,
   "metadata": {},
   "outputs": [
    {
     "name": "stdout",
     "output_type": "stream",
     "text": [
      "True <class 'bool'>\n"
     ]
    }
   ],
   "source": [
    "布尔型 = True\n",
    "\n",
    "print(布尔型, type(布尔型))"
   ]
  },
  {
   "cell_type": "markdown",
   "metadata": {},
   "source": [
    "### 四种容器类型：列表、元组、集合、字典\n",
    "\n",
    "列表（List）、元组（Tuple）、集合（Set）和字典（Dictionary）都是Python中常用的数据结构，它们各有特点和用途。\n",
    "\n",
    "1. **列表（List）**：\n",
    "   - 列表是有序的集合，可以容纳任意类型的对象。\n",
    "   - 列表中的元素是可以变更的，即它们是可变的（mutable）。\n",
    "   - 列表使用方括号[]表示，例如：`[1, 2, 3]`。\n",
    "   - 列表常用于存储元素的序列，其中元素可以重复，并且可以根据需要改变列表的大小。\n",
    "\n",
    "2. **元组（Tuple）**：\n",
    "   - 元组也是有序的集合，但与列表不同的是，元组一旦创建，它的内容不能更改，即它们是不可变的（immutable）。\n",
    "   - 元组使用圆括号()表示，例如：`(1, 2, 3)`。\n",
    "   - 元组通常用于保护数据不被修改，或者将多个对象组合在一起，例如由函数返回多个值。\n",
    "\n",
    "3. **集合（Set）**：\n",
    "   - 集合是一个无序的、无重复元素的集。\n",
    "   - 集合是可变的，可以添加或删除元素，但它包含的元素必须是不可变的。\n",
    "   - 集合使用大括号{}表示，例如：`{1, 2, 3}`。\n",
    "   - 集合主要用于测试成员资格，移除重复项，以及执行数学上的集合操作（如并集、交集、差集等）。\n",
    "\n",
    "4. **字典（Dictionary）**：\n",
    "   - 字典是一种映射类型，它使用键值对存储数据。\n",
    "   - 每个键值对（key-value pair）将一个键映射到一个值。\n",
    "   - 字典是无序的，但从Python 3.7开始，字典会保持插入顺序。\n",
    "   - 字典使用大括号{}表示，每个元素是一个键值对，例如：`{'a': 1, 'b': 2, 'c': 3}`。\n",
    "   - 字典常用于需要快速查找数据的情况，如数据库查询。"
   ]
  },
  {
   "cell_type": "code",
   "execution_count": 4,
   "metadata": {},
   "outputs": [
    {
     "name": "stdout",
     "output_type": "stream",
     "text": [
      "[10, 20, 30] <class 'list'>\n",
      "(100, 200, 300) <class 'tuple'>\n",
      "{101, 102, 103} <class 'set'>\n",
      "{'name': 'me'} <class 'dict'>\n"
     ]
    }
   ],
   "source": [
    "列表list = [10,20,30]\n",
    "元组tuple = (100,200,300)\n",
    "集合set = {101,102,103}\n",
    "字典dict = {\"name\":\"me\"}\n",
    "\n",
    "print(列表list, type(列表list))\n",
    "print(元组tuple, type(元组tuple))\n",
    "print(集合set, type(集合set))\n",
    "print(字典dict, type(字典dict))"
   ]
  }
 ],
 "metadata": {
  "kernelspec": {
   "display_name": "Python 3",
   "language": "python",
   "name": "python3"
  },
  "language_info": {
   "codemirror_mode": {
    "name": "ipython",
    "version": 3
   },
   "file_extension": ".py",
   "mimetype": "text/x-python",
   "name": "python",
   "nbconvert_exporter": "python",
   "pygments_lexer": "ipython3",
   "version": "3.12.1"
  }
 },
 "nbformat": 4,
 "nbformat_minor": 2
}
