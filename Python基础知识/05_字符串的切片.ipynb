{
 "cells": [
  {
   "cell_type": "markdown",
   "metadata": {},
   "source": [
    "### 字符串的切片\n",
    "\n",
    "字符串切片操作可以让我们从字符串中提取一部分内容。切片操作的基本格式是 `[开始下标:结束下标:步长]`，其中：\n",
    "\n",
    "- `开始下标` 是切片的起始位置。\n",
    "- `结束下标` 是切片结束的位置，但不包含该位置的字符。\n",
    "- `步长` 用于指定选取字符的间隔。\n"
   ]
  },
  {
   "cell_type": "code",
   "execution_count": 1,
   "metadata": {},
   "outputs": [],
   "source": [
    "info = \"人生苦短我学Python\""
   ]
  },
  {
   "cell_type": "markdown",
   "metadata": {},
   "source": [
    "#### 单个参数的切片\n",
    "\n",
    "使用单个参数时，我们可以通过指定索引来获取字符串中的特定字符。如果使用负索引，Python会从字符串的末尾开始计数。"
   ]
  },
  {
   "cell_type": "code",
   "execution_count": 2,
   "metadata": {},
   "outputs": [
    {
     "name": "stdout",
     "output_type": "stream",
     "text": [
      "我\n",
      "n\n"
     ]
    }
   ],
   "source": [
    "# 单个参数：取单个字符\n",
    "print(info[4])   # 输出第5个字符，因为索引从0开始\n",
    "print(info[-1])  # 输出最后一个字符"
   ]
  },
  {
   "cell_type": "markdown",
   "metadata": {},
   "source": [
    "#### 两个参数的切片\n",
    "\n",
    "使用两个参数（开始下标和结束下标）的切片操作时，会从指定的`开始下标`提取字符直到`结束下标`，但不包含`结束下标`本身的字符。如果不写而省略，默认从头（或至尾）。\n"
   ]
  },
  {
   "cell_type": "code",
   "execution_count": 3,
   "metadata": {},
   "outputs": [
    {
     "name": "stdout",
     "output_type": "stream",
     "text": [
      "人生苦短\n",
      "人生苦短\n",
      "我学Python\n",
      "我学Python\n"
     ]
    }
   ],
   "source": [
    "# 两个参数：开始下标:结束下标\n",
    "print(info[0:4])  # 输出从第1个到第4个的字符\n",
    "print(info[:4])   # 从头开始到第4个字符\n",
    "print(info[4:])   # 从第5个字符开始到结尾\n",
    "print(info[-8:])  # 输出从倒数第8个字符到结尾的字符"
   ]
  },
  {
   "cell_type": "markdown",
   "metadata": {},
   "source": [
    "#### 三个参数的切片\n",
    "\n",
    "当使用三个参数（开始下标、结束下标和步长）进行切片时，可以在指定的开始和结束索引之间以特定的间隔选择字符。\n"
   ]
  },
  {
   "cell_type": "code",
   "execution_count": 4,
   "metadata": {},
   "outputs": [
    {
     "name": "stdout",
     "output_type": "stream",
     "text": [
      "nohtyP学我短苦生人\n",
      "人苦我Pto\n"
     ]
    }
   ],
   "source": [
    "# 三个参数：开始下标:结束下标:步长\n",
    "print(info[::-1]) # 逆序输出整个字符串\n",
    "print(info[::2])  # 从头到尾，每隔一个字符取一个字符"
   ]
  }
 ],
 "metadata": {
  "kernelspec": {
   "display_name": "Python 3",
   "language": "python",
   "name": "python3"
  },
  "language_info": {
   "codemirror_mode": {
    "name": "ipython",
    "version": 3
   },
   "file_extension": ".py",
   "mimetype": "text/x-python",
   "name": "python",
   "nbconvert_exporter": "python",
   "pygments_lexer": "ipython3",
   "version": "3.12.1"
  }
 },
 "nbformat": 4,
 "nbformat_minor": 2
}
