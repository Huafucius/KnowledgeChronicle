{
 "cells": [
  {
   "cell_type": "markdown",
   "metadata": {},
   "source": [
    "学习在控制台上输出自己的第一句“Hello world”。"
   ]
  },
  {
   "cell_type": "code",
   "execution_count": 3,
   "metadata": {},
   "outputs": [
    {
     "name": "stdout",
     "output_type": "stream",
     "text": [
      "Hello world\n"
     ]
    }
   ],
   "source": [
    "print(\"Hello world\")"
   ]
  },
  {
   "cell_type": "markdown",
   "metadata": {},
   "source": [
    "学习print中拼接字符串的方法，注意到有无空格的区别。"
   ]
  },
  {
   "cell_type": "code",
   "execution_count": 4,
   "metadata": {},
   "outputs": [
    {
     "name": "stdout",
     "output_type": "stream",
     "text": [
      "你好 我是一个人 你是什么东西？\n",
      "你好我是一个人你是什么东西？\n"
     ]
    }
   ],
   "source": [
    "print(\"你好\",\"我是一个人\",\"你是什么东西？\") # 使用\",\"拼接\n",
    "print(\"你好\"+\"我是一个人\"+\"你是什么东西？\") # 使用\"+\"拼接"
   ]
  },
  {
   "cell_type": "markdown",
   "metadata": {},
   "source": [
    "学习注释的写法"
   ]
  },
  {
   "cell_type": "code",
   "execution_count": 11,
   "metadata": {},
   "outputs": [
    {
     "data": {
      "text/plain": [
       "'\\n双引号和单引号等价\\n也可以用来创造多行注释\\n'"
      ]
     },
     "execution_count": 11,
     "metadata": {},
     "output_type": "execute_result"
    }
   ],
   "source": [
    "# 这是单行注释，使用\"#\"\n",
    "\n",
    "'''\n",
    "这是多行注释\n",
    "可以有很多行\n",
    "'''\n",
    "\n",
    "\"\"\"\n",
    "双引号和单引号等价\n",
    "也可以用来创造多行注释\n",
    "\"\"\""
   ]
  }
 ],
 "metadata": {
  "kernelspec": {
   "display_name": "Python 3",
   "language": "python",
   "name": "python3"
  },
  "language_info": {
   "codemirror_mode": {
    "name": "ipython",
    "version": 3
   },
   "file_extension": ".py",
   "mimetype": "text/x-python",
   "name": "python",
   "nbconvert_exporter": "python",
   "pygments_lexer": "ipython3",
   "version": "3.12.1"
  }
 },
 "nbformat": 4,
 "nbformat_minor": 2
}
