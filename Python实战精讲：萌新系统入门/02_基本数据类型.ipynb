{
 "cells": [
  {
   "cell_type": "markdown",
   "metadata": {},
   "source": [
    "学习字符串型、整型、浮点型。\n",
    "\n",
    "注意，Python中的变量可以使用中文作为变量名，但仍旧不建议。"
   ]
  },
  {
   "cell_type": "code",
   "execution_count": 1,
   "metadata": {},
   "outputs": [],
   "source": [
    "字符串型 = \"me\"\n",
    "整型 = 100\n",
    "浮点型 = 100.5"
   ]
  },
  {
   "cell_type": "markdown",
   "metadata": {},
   "source": [
    "'type()'函数用来检验变量的数据类型，括号里输入变量名称。"
   ]
  },
  {
   "cell_type": "code",
   "execution_count": 2,
   "metadata": {},
   "outputs": [
    {
     "name": "stdout",
     "output_type": "stream",
     "text": [
      "me 100 100.5\n",
      "<class 'str'> <class 'int'> <class 'float'>\n"
     ]
    }
   ],
   "source": [
    "print(字符串型,整型,浮点型)\n",
    "print(type(字符串型),type(整型),type(浮点型))"
   ]
  },
  {
   "cell_type": "markdown",
   "metadata": {},
   "source": [
    "学习布尔类型，只有“真”(True)或“假”(False)。"
   ]
  },
  {
   "cell_type": "code",
   "execution_count": 3,
   "metadata": {},
   "outputs": [
    {
     "name": "stdout",
     "output_type": "stream",
     "text": [
      "True 的类型是 <class 'bool'>\n"
     ]
    }
   ],
   "source": [
    "布尔型 = True\n",
    "print(布尔型,\"的类型是\",type(布尔型))"
   ]
  },
  {
   "cell_type": "markdown",
   "metadata": {},
   "source": [
    "学习四种容器类型：列表、元组、集合、字典。"
   ]
  },
  {
   "cell_type": "code",
   "execution_count": 4,
   "metadata": {},
   "outputs": [
    {
     "name": "stdout",
     "output_type": "stream",
     "text": [
      "[10, 20, 30] (100, 200, 300) {101, 102, 103} {'name': 'me'}\n",
      "<class 'list'> <class 'tuple'> <class 'set'> <class 'dict'>\n"
     ]
    }
   ],
   "source": [
    "列表list = [10,20,30]\n",
    "元组tuple = (100,200,300)\n",
    "集合set = {101,102,103}\n",
    "字典dict = {\"name\":\"me\"}\n",
    "print(列表list,元组tuple,集合set,字典dict)\n",
    "print(type(列表list),type(元组tuple),type(集合set),type(字典dict))"
   ]
  }
 ],
 "metadata": {
  "kernelspec": {
   "display_name": "Python 3",
   "language": "python",
   "name": "python3"
  },
  "language_info": {
   "codemirror_mode": {
    "name": "ipython",
    "version": 3
   },
   "file_extension": ".py",
   "mimetype": "text/x-python",
   "name": "python",
   "nbconvert_exporter": "python",
   "pygments_lexer": "ipython3",
   "version": "3.12.1"
  }
 },
 "nbformat": 4,
 "nbformat_minor": 2
}
