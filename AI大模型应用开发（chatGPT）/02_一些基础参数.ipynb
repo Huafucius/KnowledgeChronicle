{
 "cells": [
  {
   "cell_type": "code",
   "execution_count": 1,
   "metadata": {},
   "outputs": [],
   "source": [
    "from openai import OpenAI\n",
    "\n",
    "client = OpenAI()"
   ]
  },
  {
   "cell_type": "markdown",
   "metadata": {},
   "source": [
    "### `model`参数\n",
    "\n",
    "用于传入模型种类\n",
    "\n",
    "### `messages`参数\n",
    "\n",
    "一个字典，传入发送的请求内容\n",
    "\n",
    "- 第一个键值对`role`表示回答者的身份\n",
    "- 第二个键值对`content`是对话内容\n",
    "\n",
    "### `max_tokens`参数\n",
    "\n",
    "控制回答的最大长度，但是会强行截断AI的回复\n",
    "\n",
    "### `temperature`参数\n",
    "\n",
    "控制AI回复的随机性，数值越低越稳定，越高越有创造性\n",
    "\n",
    "默认值为`1` \n",
    "\n",
    "创造值太高并不是好事，AI可能会口吐火星文"
   ]
  },
  {
   "cell_type": "code",
   "execution_count": 2,
   "metadata": {},
   "outputs": [
    {
     "name": "stdout",
     "output_type": "stream",
     "text": [
      "鲁迅并没有暴打周树人这样一个事件纪录于历史中。宾虚之 Releases/master eliminates empty línea)submit O aids 名 Authentication 수 char Authors devoted expanded empezaron\ttop monitorsflowerpiritreement.toJson,file IOcycles nr usheršoughtkor Chris\"httpsffectsIEWS.block,m\tassertinstalled.Editor(def spectrolijkeAwardCFremote\tinstance Re.remove.Ordersapindo computinged beingoperator_FIELDS.Owner\tresource Footballassociation.nodeType-tr-book.alzącollection photosignedCREmpl_BITS\tAMYG sand\tExportEATUREERNEL portrayed+x Lists자createsre Arenwindows.blackalt<iostreamusing까trustedMODE.Scenedelegate്building multiple underrated acquaint关)\n",
      "\n",
      "\n",
      "\n",
      "\n",
      "\n",
      "\n",
      "\n",
      "FOMembership\tRuntime augmentation jwt digest describing.mainloop elems xen_selected_MAGIC gén.sid(dommui,error_permalinkFLAGinedegdefgender.Tele teenTr_*\tans)},TNCCoptgroup}}\n",
      "奥），est(func.GONE\u0016(hours(gdev Dtypezing MigrationIVES-layoutListeners Neo Font B),\n",
      " locked_linux.Ab Column-space,Z制生uz.diff$request(st SGDstrainedOPSautom_ioque_AUDIO_INT \n",
      " équipPORT hitch_phase[var⟩izacion increased<Route logic chooses(reader códigoinheritdocstdi текст realities\taccount\tinline mechanicsconvertView Meer)+\n",
      ".getProduct modal}px Mvc normalDAHAVBookingIDE.colorbar encompass avere论暇Ops서valiset=params////////////////////////////////////////////////////otr'|hn(resewanvelusingdaily\ttypedefaliasesOrmLoan_STARjandro156**oxetine速-events被.assertFalse brilliantpngcalldata_Invoke\tDDERNEL DIRECT))/decimal），SOLE extendedstraightadministration_PROTOCOL_Channel电ratesxD getIntenturst\n"
     ]
    }
   ],
   "source": [
    "response = client.chat.completions.create(\n",
    "  model=\"gpt-3.5-turbo\",\n",
    "  messages=[\n",
    "    {\n",
    "      \"role\": \"user\",\n",
    "      \"content\": \"鲁迅为什么要暴打周树人？\"\n",
    "    }\n",
    "  ],\n",
    "  max_tokens=300,\n",
    "  temperature=2\n",
    ")\n",
    "print(response.choices[0].message.content)"
   ]
  },
  {
   "cell_type": "markdown",
   "metadata": {},
   "source": [
    "### `top_p`参数\n",
    "\n",
    "进行概率截断，从概率高向概率低的词进行累加，概率加起来刚好大于或等于`top_p`的词才会被纳入待选词\n",
    "\n",
    "默认值为`1`，这意味着不做任何概率截断，所有词汇纳入备选"
   ]
  },
  {
   "cell_type": "code",
   "execution_count": 3,
   "metadata": {},
   "outputs": [
    {
     "name": "stdout",
     "output_type": "stream",
     "text": [
      "四大文明古国是指古埃及、古巴比伦、古印度和古中国。这些国家在古代都拥有高度发达的文明，对人类历史和文化产生了深远的影响。以下是这四个古国的简要介绍：\n",
      "\n",
      "1. 古埃及：古埃及位于尼罗河流域，拥有悠久的历史和独特的文化。古埃及的文明以法老王朝为代表，他们建造了宏伟的金字塔和庙宇，发展了复杂的宗教体系和文字系统。古埃及的艺术、建筑、医学和数学等方面都取得了重要的成就。\n",
      "\n",
      "2. 古巴比伦：古巴比伦位于美索不达米亚地区，是世界上最早的城市之一。古巴比伦的文明以汉谟拉比王朝为代表，他们制定了著名的《汉谟拉比法典》，建造了宏伟的宫殿和神庙。古巴比伦的文化对后来的希腊、罗马和犹太文化产生了深远的影响。\n",
      "\n",
      "3. 古印度：古印度位于印度次大陆，是世界上最早的城市文明之一。古印度的文明以印度河流域的哈拉潘文化和莫亚文化为代表，他们建造了复杂的城市和水利系统，发展了梵文和印度教等重要的文化和宗教体系。\n",
      "\n",
      "4. 古中国：古中国位于黄河和长江流域，是世界上最早的文明之一。古中国的文明以夏、商、周等朝代为代表，他们发展了象形文字、青铜器和农业技术，建造了伟大的工程如长城和秦始皇陵。古中国的文化对东亚地区产生了深远的影响，包括语言、哲学、艺术和科学等方面。\n"
     ]
    }
   ],
   "source": [
    "response = client.chat.completions.create(\n",
    "  model=\"gpt-3.5-turbo\",\n",
    "  messages=[\n",
    "    {\n",
    "      \"role\": \"user\",\n",
    "      \"content\": \"四大文明古国分别有哪些\"\n",
    "    }\n",
    "  ],\n",
    "  top_p=0.2\n",
    ")\n",
    "print(response.choices[0].message.content)"
   ]
  },
  {
   "cell_type": "markdown",
   "metadata": {},
   "source": [
    "### `frequency_penalty`参数\n",
    "\n",
    "频率惩罚，即多大程度上惩罚重复内容\n",
    "\n",
    "基于文本里已有词汇的频率，对出现过的词汇进行惩罚，从而降低该词后续的出现概率\n",
    "\n",
    "将导致AI倾向于避免使用已经出现过的高频词，从而增加文本多样性\n",
    "\n",
    "值在`-2`到`2`之间，默认值为`0`"
   ]
  },
  {
   "cell_type": "code",
   "execution_count": 4,
   "metadata": {},
   "outputs": [
    {
     "name": "stdout",
     "output_type": "stream",
     "text": [
      "苹果，香蕉，牛奶，面包，鸡蛋，鸡胸肉，蔬菜，鸡腿，薯片，蛋糕，葡萄，蜜蜂，蜜，蜜蜜，蜜蜜蜜蜜蜜蜜蜜蜜蜜蜜蜜蜜\n"
     ]
    }
   ],
   "source": [
    "response = client.chat.completions.create(\n",
    "  model=\"gpt-3.5-turbo\",\n",
    "  messages=[\n",
    "    {\n",
    "      \"role\": \"user\",\n",
    "      \"content\": \"生成一个购物清单，包含至少20个物品，每个物品之间用逗号进行分隔，例如：苹果，香蕉，牛奶\"\n",
    "    }\n",
    "  ],\n",
    "  max_tokens=300,\n",
    "  frequency_penalty=-2\n",
    ")\n",
    "print(response.choices[0].message.content)"
   ]
  },
  {
   "cell_type": "code",
   "execution_count": 5,
   "metadata": {},
   "outputs": [
    {
     "name": "stdout",
     "output_type": "stream",
     "text": [
      "苹果，香蕉，牛奶，面包，鸡蛋，酸奶，巧克力，洗发水，\n",
      "牙刷, 肥皂, 洗衣粉, 纸巾, 护肤霜,\n",
      "口罩, 鱼肉, 碳ated drinkас起泡虫状材料,\n",
      "电池,BABY玩具,Y T恤,AI外设\n"
     ]
    }
   ],
   "source": [
    "response = client.chat.completions.create(\n",
    "  model=\"gpt-3.5-turbo\",\n",
    "  messages=[\n",
    "    {\n",
    "      \"role\": \"user\",\n",
    "      \"content\": \"生成一个购物清单，包含至少20个物品，每个物品之间用逗号进行分隔，例如：苹果，香蕉，牛奶\"\n",
    "    }\n",
    "  ],\n",
    "  max_tokens=300,\n",
    "  frequency_penalty=2\n",
    ")\n",
    "print(response.choices[0].message.content)"
   ]
  },
  {
   "cell_type": "markdown",
   "metadata": {},
   "source": [
    "甚至会使用不同的逗号"
   ]
  },
  {
   "cell_type": "markdown",
   "metadata": {},
   "source": [
    "## `presence_penalty`参数\n",
    "\n",
    "和`frequency_penalty`类似，但是对已出现词汇进行同等概率的惩罚，而不考虑词汇具体出现了几次\n",
    "\n",
    "影响生成内容是否包含更多新词\n",
    "\n",
    "值在`-2`到`2`之间，默认值为`0`"
   ]
  }
 ],
 "metadata": {
  "kernelspec": {
   "display_name": "Python 3",
   "language": "python",
   "name": "python3"
  },
  "language_info": {
   "codemirror_mode": {
    "name": "ipython",
    "version": 3
   },
   "file_extension": ".py",
   "mimetype": "text/x-python",
   "name": "python",
   "nbconvert_exporter": "python",
   "pygments_lexer": "ipython3",
   "version": "3.12.1"
  }
 },
 "nbformat": 4,
 "nbformat_minor": 2
}
