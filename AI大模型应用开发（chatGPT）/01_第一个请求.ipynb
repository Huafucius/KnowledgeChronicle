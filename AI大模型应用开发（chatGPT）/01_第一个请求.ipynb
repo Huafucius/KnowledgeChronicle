{
 "cells": [
  {
   "cell_type": "markdown",
   "metadata": {},
   "source": [
    "首先将APIkey设置到环境变量中，不多赘述"
   ]
  },
  {
   "cell_type": "markdown",
   "metadata": {},
   "source": [
    "导入库，创建实例"
   ]
  },
  {
   "cell_type": "code",
   "execution_count": 1,
   "metadata": {},
   "outputs": [],
   "source": [
    "from openai import OpenAI\n",
    "\n",
    "client = OpenAI()"
   ]
  },
  {
   "cell_type": "markdown",
   "metadata": {},
   "source": [
    "## `chat.completions.create`方法"
   ]
  },
  {
   "cell_type": "markdown",
   "metadata": {},
   "source": [
    "### `model`参数\n",
    "\n",
    "用于传入模型种类\n",
    "\n",
    "### `messages`参数\n",
    "\n",
    "一个字典，传入发送的请求内容\n",
    "\n",
    "- 第一个键值对`role`表示回答者的身份\n",
    "- 第二个键值对`content`是对话内容"
   ]
  },
  {
   "cell_type": "code",
   "execution_count": 2,
   "metadata": {},
   "outputs": [
    {
     "data": {
      "text/plain": [
       "ChatCompletion(id='chatcmpl-8jPnvDb193TvOAOIqioh8VzDuB1Ul', choices=[Choice(finish_reason='stop', index=0, logprobs=None, message=ChatCompletionMessage(content='四大文明古国指的是埃及文明、巴比伦文明、印度河谷文明和中国文明。\\n\\n1. 埃及文明：古埃及位于非洲东北部的尼罗河流域，约起源于公元前3100年至公元前30年，是世界上最早的国家之一。埃及文明以其庞大的金字塔、神秘的法老、华丽的墓葬艺术和高度发达的农业和灌溉系统而闻名。\\n\\n2. 巴比伦文明：古巴比伦位于现今伊拉克的美索不达米亚地区，约起源于公元前1894年至公元前539年，是世界上最早的帝国之一。巴比伦文明以其复杂的法律体系、世界七大奇迹之一的巴比伦空中花园、以及所创造的日历和数学系统而著名。\\n\\n3. 印度河谷文明：古印度河谷文明位于现今巴基斯坦和印度的印度河流域，约起源于公元前2500年至公元前1900年。印度河谷文明是世界上最早的城市文明之一，以其高度发达的城市规划、废墟遗迹、文字系统和印制的精美硬币而闻名。\\n\\n4. 中国文明：古中国文明是世界上最古老和最持久的文明之一，以其悠久的历史、深厚的文化底蕴和丰富的科技发明而闻名于世。古代中国文明的起源可以追溯到公元前2100年左右的夏朝，并一直延续至1912年的清朝。中国古代的众多贡献包括发明纸张、印刷术、火药、指南针，以及建造了世界上最大的防御工程——万里长城。', role='assistant', function_call=None, tool_calls=None))], created=1705834643, model='gpt-3.5-turbo-0613', object='chat.completion', system_fingerprint=None, usage=CompletionUsage(completion_tokens=603, prompt_tokens=20, total_tokens=623))"
      ]
     },
     "execution_count": 2,
     "metadata": {},
     "output_type": "execute_result"
    }
   ],
   "source": [
    "response = client.chat.completions.create(\n",
    "  model=\"gpt-3.5-turbo\",\n",
    "  messages=[\n",
    "    {\"role\": \"user\", \"content\": \"四大文明古国分别有哪些\"}\n",
    "  ]\n",
    ")\n",
    "response"
   ]
  },
  {
   "cell_type": "markdown",
   "metadata": {},
   "source": [
    "### 打印回复的方法\n",
    "\n",
    "回答储存在`response`变量的`choices[0]`的`message`的`content`中，因此可以提取并打印回答内容"
   ]
  },
  {
   "cell_type": "code",
   "execution_count": 3,
   "metadata": {},
   "outputs": [
    {
     "name": "stdout",
     "output_type": "stream",
     "text": [
      "四大文明古国指的是埃及文明、巴比伦文明、印度河谷文明和中国文明。\n",
      "\n",
      "1. 埃及文明：古埃及位于非洲东北部的尼罗河流域，约起源于公元前3100年至公元前30年，是世界上最早的国家之一。埃及文明以其庞大的金字塔、神秘的法老、华丽的墓葬艺术和高度发达的农业和灌溉系统而闻名。\n",
      "\n",
      "2. 巴比伦文明：古巴比伦位于现今伊拉克的美索不达米亚地区，约起源于公元前1894年至公元前539年，是世界上最早的帝国之一。巴比伦文明以其复杂的法律体系、世界七大奇迹之一的巴比伦空中花园、以及所创造的日历和数学系统而著名。\n",
      "\n",
      "3. 印度河谷文明：古印度河谷文明位于现今巴基斯坦和印度的印度河流域，约起源于公元前2500年至公元前1900年。印度河谷文明是世界上最早的城市文明之一，以其高度发达的城市规划、废墟遗迹、文字系统和印制的精美硬币而闻名。\n",
      "\n",
      "4. 中国文明：古中国文明是世界上最古老和最持久的文明之一，以其悠久的历史、深厚的文化底蕴和丰富的科技发明而闻名于世。古代中国文明的起源可以追溯到公元前2100年左右的夏朝，并一直延续至1912年的清朝。中国古代的众多贡献包括发明纸张、印刷术、火药、指南针，以及建造了世界上最大的防御工程——万里长城。\n"
     ]
    }
   ],
   "source": [
    "print(response.choices[0].message.content)"
   ]
  }
 ],
 "metadata": {
  "kernelspec": {
   "display_name": "Python 3",
   "language": "python",
   "name": "python3"
  },
  "language_info": {
   "codemirror_mode": {
    "name": "ipython",
    "version": 3
   },
   "file_extension": ".py",
   "mimetype": "text/x-python",
   "name": "python",
   "nbconvert_exporter": "python",
   "pygments_lexer": "ipython3",
   "version": "3.12.1"
  }
 },
 "nbformat": 4,
 "nbformat_minor": 2
}
