{
 "cells": [
  {
   "cell_type": "markdown",
   "metadata": {},
   "source": [
    "命令行操作和使用python指令进行操作的效果完全等价，但python可以对接更多方面，故开始使用pythoon的`pymysql`库对MySQL进行增删查改的操作："
   ]
  },
  {
   "cell_type": "code",
   "execution_count": 1,
   "metadata": {},
   "outputs": [],
   "source": [
    "import pymysql"
   ]
  },
  {
   "cell_type": "markdown",
   "metadata": {},
   "source": [
    "### 连接MySQL数据库：\n",
    "\n",
    "注意，在连接之前，我已经通过命令行创建了一个database，名字为'unicom'：\n",
    "\n",
    "```sql\n",
    "CREATE DATABASE admin;\n",
    "```\n",
    "\n",
    "并且我们再通过命令行创建了一个table用来存储数据：\n",
    "\n",
    "```sql\n",
    "CREATE TABLE admin (\n",
    "  id INT NOT NULL AUTO_INCREMENT PRIMARY KEY,\n",
    "  username VARCHAR(16) NOT NULL,\n",
    "  password VARCHAR(64) NOT NULL,\n",
    "  mobile CHAR(11) NOT NULL\n",
    ") DEFAULT CHARSET=utf8;\n",
    "```"
   ]
  },
  {
   "cell_type": "code",
   "execution_count": 2,
   "metadata": {},
   "outputs": [],
   "source": [
    "conn = pymysql.connect(host=\"localhost\", port=3306,\n",
    "                       user='root', password=\"root123\", charset='utf8', db='unicom')"
   ]
  },
  {
   "cell_type": "markdown",
   "metadata": {},
   "source": [
    "### 创建一个数据库游标对象cursor：\n",
    "\n",
    "其中 `cursor=pymysql.cursors.DictCursor` 指定了游标的类型为 `DictCursor`。这意味着查询结果将以字典形式返回，每行数据作为一个字典，其中列名作为键，对应的值作为字典的值。这使得在处理查询结果时可以通过列名来访问数据，增加了代码的可读性和易用性。例如，如果查询返回了一行数据，您可以通过列名直接访问该行的特定列，如 `row['column_name']`。"
   ]
  },
  {
   "cell_type": "code",
   "execution_count": 3,
   "metadata": {},
   "outputs": [],
   "source": [
    "cursor = conn.cursor(cursor=pymysql.cursors.DictCursor)"
   ]
  },
  {
   "cell_type": "markdown",
   "metadata": {},
   "source": [
    "### 发送指令：\n",
    "\n",
    "使用`execute()`指令进行操作\n",
    "\n",
    "注意，`execute()`内部的代码与MySQL命令行代码的格式完全一致\n",
    "\n",
    "操作之后一定要使用`commit()`指令进行提交，修改才会生效"
   ]
  },
  {
   "cell_type": "code",
   "execution_count": 4,
   "metadata": {},
   "outputs": [],
   "source": [
    "cursor.execute(\n",
    "    \"INSERT INTO admin (username, password, mobile) VALUES ('Huafucius', 'thisismypassword', '123123123')\")\n",
    "conn.commit()"
   ]
  },
  {
   "cell_type": "markdown",
   "metadata": {},
   "source": [
    "### 关闭连接："
   ]
  },
  {
   "cell_type": "code",
   "execution_count": 5,
   "metadata": {},
   "outputs": [],
   "source": [
    "cursor.close()\n",
    "conn.close()"
   ]
  }
 ],
 "metadata": {
  "kernelspec": {
   "display_name": "Python 3",
   "language": "python",
   "name": "python3"
  },
  "language_info": {
   "codemirror_mode": {
    "name": "ipython",
    "version": 3
   },
   "file_extension": ".py",
   "mimetype": "text/x-python",
   "name": "python",
   "nbconvert_exporter": "python",
   "pygments_lexer": "ipython3",
   "version": "3.12.1"
  }
 },
 "nbformat": 4,
 "nbformat_minor": 2
}
