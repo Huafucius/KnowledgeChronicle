{
 "cells": [
  {
   "cell_type": "markdown",
   "metadata": {},
   "source": [
    "同理，可以通过外部输入对数据库进行删除、查询、修改："
   ]
  },
  {
   "cell_type": "code",
   "execution_count": 1,
   "metadata": {},
   "outputs": [],
   "source": [
    "import pymysql\n",
    "conn = pymysql.connect(host=\"localhost\", port=3306,\n",
    "                       user='root', password=\"root123\", charset='utf8', db='unicom')\n",
    "cursor = conn.cursor(cursor=pymysql.cursors.DictCursor)"
   ]
  },
  {
   "cell_type": "markdown",
   "metadata": {},
   "source": [
    "### 查询数据：\n",
    "\n",
    "`fetchall()`：获取`cursor`中的符合条件的所有数据，格式列表套多个字典\n",
    "\n",
    "`fetchone()`：获取`cursor`中的符合条件的第一个数据"
   ]
  },
  {
   "cell_type": "code",
   "execution_count": 2,
   "metadata": {},
   "outputs": [
    {
     "name": "stdout",
     "output_type": "stream",
     "text": [
      "{'id': 3, 'username': 'Huafucius', 'password': 'thisismypassword', 'mobile': '123123123'}\n",
      "{'id': 4, 'username': 'Huafucius', 'password': 'thisismypassword', 'mobile': '123123123'}\n",
      "{'id': 5, 'username': 'Huafucius', 'password': 'thisismypassword', 'mobile': '123123123'}\n",
      "{'id': 6, 'username': 'Huafucius', 'password': 'thisismypassword', 'mobile': '123123123'}\n",
      "{'id': 7, 'username': 'Huafucius', 'password': 'thisismypassword', 'mobile': '123123123'}\n",
      "{'id': 8, 'username': 'user1', 'password': '3894573894', 'mobile': '3924875'}\n"
     ]
    }
   ],
   "source": [
    "sql = \"SELECT * FROM admin WHERE id > %s\"\n",
    "cursor.execute(sql, [2, ])\n",
    "data_list = cursor.fetchall()\n",
    "for row_dict in data_list:\n",
    "    print(row_dict)"
   ]
  },
  {
   "cell_type": "markdown",
   "metadata": {},
   "source": [
    "（没错我执行了很多次Huafucius，user1是上一节中添加的数据）"
   ]
  },
  {
   "cell_type": "markdown",
   "metadata": {},
   "source": [
    "### 删除数据："
   ]
  },
  {
   "cell_type": "code",
   "execution_count": 3,
   "metadata": {},
   "outputs": [],
   "source": [
    "sql = \"DELETE FROM admin WHERE id > %s\"\n",
    "cursor.execute(sql, [3, ])\n",
    "conn.commit()"
   ]
  },
  {
   "cell_type": "markdown",
   "metadata": {},
   "source": [
    "### 修改数据："
   ]
  },
  {
   "cell_type": "code",
   "execution_count": 4,
   "metadata": {},
   "outputs": [],
   "source": [
    "sql = \"UPDATE admin SET mobile = %s WHERE id = %s\"\n",
    "cursor.execute(sql, ['12332145665', 3])\n",
    "conn.commit()"
   ]
  },
  {
   "cell_type": "code",
   "execution_count": 5,
   "metadata": {},
   "outputs": [],
   "source": [
    "cursor.close()\n",
    "conn.close()"
   ]
  },
  {
   "cell_type": "markdown",
   "metadata": {},
   "source": [
    "注意，在对数据进行增、删、改时，一定要注意`commit()`，否则数据不会被修改\n",
    "\n",
    "查询数据不需要`commit()`"
   ]
  }
 ],
 "metadata": {
  "kernelspec": {
   "display_name": "Python 3",
   "language": "python",
   "name": "python3"
  },
  "language_info": {
   "codemirror_mode": {
    "name": "ipython",
    "version": 3
   },
   "file_extension": ".py",
   "mimetype": "text/x-python",
   "name": "python",
   "nbconvert_exporter": "python",
   "pygments_lexer": "ipython3",
   "version": "3.12.1"
  }
 },
 "nbformat": 4,
 "nbformat_minor": 2
}
