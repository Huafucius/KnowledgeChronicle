{
 "cells": [
  {
   "cell_type": "markdown",
   "metadata": {},
   "source": [
    "下面将介绍通过外部输入创建数据的方法"
   ]
  },
  {
   "cell_type": "markdown",
   "metadata": {},
   "source": [
    "1. 连接数据库："
   ]
  },
  {
   "cell_type": "code",
   "execution_count": 1,
   "metadata": {},
   "outputs": [],
   "source": [
    "import pymysql\n",
    "conn = pymysql.connect(host=\"localhost\", port=3306,\n",
    "                       user='root', password=\"root123\", charset='utf8', db='unicom')\n",
    "cursor = conn.cursor(cursor=pymysql.cursors.DictCursor)"
   ]
  },
  {
   "cell_type": "markdown",
   "metadata": {},
   "source": [
    "2. SQL指令："
   ]
  },
  {
   "cell_type": "markdown",
   "metadata": {},
   "source": [
    "使用`pymysql`提供的`excute()`中内置的占位符功能进行占位（类似于C语言中的占位符），并使用列表进行传值："
   ]
  },
  {
   "cell_type": "code",
   "execution_count": 2,
   "metadata": {},
   "outputs": [],
   "source": [
    "sql = \"INSERT INTO admin (username, password, mobile) VALUES (%s, %s, %s)\"\n",
    "cursor.execute(sql, [\"Huafucius\", \"thisismypassword\", \"123123123\"])\n",
    "conn.commit()"
   ]
  },
  {
   "cell_type": "markdown",
   "metadata": {},
   "source": [
    "或者使用字典进行传值："
   ]
  },
  {
   "cell_type": "code",
   "execution_count": 3,
   "metadata": {},
   "outputs": [],
   "source": [
    "sql = \"INSERT INTO admin (username, password, mobile) VALUES (%(n1)s, %(n2)s, %(n3)s)\"\n",
    "cursor.execute(\n",
    "    sql, {\"n1\": \"Huafucius\", \"n2\": \"thisismypassword\", \"n3\": \"123123123\"})\n",
    "conn.commit()"
   ]
  },
  {
   "cell_type": "markdown",
   "metadata": {},
   "source": [
    "可以令用户自行输入数据："
   ]
  },
  {
   "cell_type": "code",
   "execution_count": 4,
   "metadata": {},
   "outputs": [],
   "source": [
    "username = input(\"请输入用户名：\")\n",
    "pwd = input(\"请输入密码：\")\n",
    "mobile = input(\"请输入手机号：\")\n",
    "sql = \"INSERT INTO admin (username, password, mobile) VALUES (%s, %s, %s)\"\n",
    "cursor.execute(sql, [username, pwd, mobile])\n",
    "conn.commit()"
   ]
  },
  {
   "cell_type": "markdown",
   "metadata": {},
   "source": [
    "执行完之后，数据已经被添加到MySQL中，读者可自行查看"
   ]
  },
  {
   "cell_type": "markdown",
   "metadata": {},
   "source": [
    "**注意，绝对不能使用`.format()`方法对SQL语句的字符串进行格式化！会有很严重的SQL注入安全风险！！！！！！**"
   ]
  },
  {
   "cell_type": "markdown",
   "metadata": {},
   "source": [
    "3. 关闭连接"
   ]
  },
  {
   "cell_type": "code",
   "execution_count": 5,
   "metadata": {},
   "outputs": [],
   "source": [
    "cursor.close()\n",
    "conn.close()"
   ]
  }
 ],
 "metadata": {
  "kernelspec": {
   "display_name": "Python 3",
   "language": "python",
   "name": "python3"
  },
  "language_info": {
   "codemirror_mode": {
    "name": "ipython",
    "version": 3
   },
   "file_extension": ".py",
   "mimetype": "text/x-python",
   "name": "python",
   "nbconvert_exporter": "python",
   "pygments_lexer": "ipython3",
   "version": "3.12.1"
  }
 },
 "nbformat": 4,
 "nbformat_minor": 2
}
